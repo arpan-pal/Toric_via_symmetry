{
 "cells": [
  {
   "cell_type": "markdown",
   "id": "947a2b34-6149-4113-9b2f-1b05b9764c6e",
   "metadata": {},
   "source": [
    "## Code for Example 5.5:\n",
    "The variable names here are slightly different than in the paper. We are using $x_{ij}$ in place of $\\sigma_{ij}$ in the paper."
   ]
  },
  {
   "cell_type": "code",
   "execution_count": 6,
   "id": "83c9660b-3870-4280-9e8b-1469361aa3af",
   "metadata": {},
   "outputs": [
    {
     "name": "stdout",
     "output_type": "stream",
     "text": [
      "Defining x11, x12, x13, x14, x22, x23, x24, x33, x34, x44\n"
     ]
    }
   ],
   "source": [
    "# Loading assistive functions and defining ambient ring\n",
    "import time\n",
    "load('Symmalg.sage')\n",
    "R = PolynomialRing(QQ, ['x11', 'x12', 'x13', 'x14', 'x22', 'x23', 'x24', 'x33', 'x34', 'x44'])\n",
    "R.inject_variables()"
   ]
  },
  {
   "cell_type": "markdown",
   "id": "51037311-3071-49bd-afe4-2924c16f89b9",
   "metadata": {},
   "source": [
    "### Deriving the equations\n",
    "\n",
    "Here we briefly describe how the equations $p_1$ and $p_2$ are constructed out of the graph in **Figure 3** in the paper.\n",
    "\n",
    "The variables are $x_{ij}$ with $1\\leq j \\leq 4$. In the figure we have edges between all the vertices but beween $2 - 4$ and $1 - 3$.\n",
    "\n",
    "We construct the following matrix:\n",
    "\n",
    "$\\left(\\begin{array}{rrrr}\n",
    "x_{11} & x_{12} & x_{13} & x_{14} \\\\\n",
    "x_{12} & x_{22} & x_{23} & x_{24} \\\\\n",
    "x_{13} & x_{23} & x_{33} & x_{34} \\\\\n",
    "x_{14} & x_{24} & x_{34} & x_{44}\n",
    "\\end{array}\\right)$\n",
    "\n",
    "\n",
    "We take the minors corresponding to the $(2,4)$ and $(1,3)$ entry. That gives us the two polynomials."
   ]
  },
  {
   "cell_type": "code",
   "execution_count": 2,
   "id": "b0992a4d-01a3-41c6-a866-3f3a5b95e21b",
   "metadata": {},
   "outputs": [
    {
     "data": {
      "text/html": [
       "<html>\\(\\displaystyle \\left(\\begin{array}{rrrr}\n",
       "x_{11} & x_{12} & x_{13} & x_{14} \\\\\n",
       "x_{12} & x_{22} & x_{23} & x_{24} \\\\\n",
       "x_{13} & x_{23} & x_{33} & x_{34} \\\\\n",
       "x_{14} & x_{24} & x_{34} & x_{44}\n",
       "\\end{array}\\right)\\)</html>"
      ],
      "text/latex": [
       "$\\displaystyle \\left(\\begin{array}{rrrr}\n",
       "x_{11} & x_{12} & x_{13} & x_{14} \\\\\n",
       "x_{12} & x_{22} & x_{23} & x_{24} \\\\\n",
       "x_{13} & x_{23} & x_{33} & x_{34} \\\\\n",
       "x_{14} & x_{24} & x_{34} & x_{44}\n",
       "\\end{array}\\right)$"
      ],
      "text/plain": [
       "[x11 x12 x13 x14]\n",
       "[x12 x22 x23 x24]\n",
       "[x13 x23 x33 x34]\n",
       "[x14 x24 x34 x44]"
      ]
     },
     "metadata": {},
     "output_type": "display_data"
    }
   ],
   "source": [
    "M = matrix(R, 4,4)\n",
    "M[0,0] = x11\n",
    "M[0,1] = x12\n",
    "M[0,2] = x13\n",
    "M[0,3] = x14\n",
    "M[1,1] = x22\n",
    "M[1,2] = x23\n",
    "M[1,3] = x24\n",
    "M[2,2] = x33\n",
    "M[2,3] = x34\n",
    "M[3,3] = x44\n",
    "for i in range(4):\n",
    "    for j in range(i):\n",
    "        M[i,j] = M[j,i]\n",
    "show(M)"
   ]
  },
  {
   "cell_type": "code",
   "execution_count": 3,
   "id": "1fac612d-0242-4ae3-9df2-1caac37db4b1",
   "metadata": {},
   "outputs": [
    {
     "data": {
      "text/html": [
       "<html>\\(\\displaystyle \\verb|p1|\\verb| |\\verb|=| x_{14} x_{23} x_{24} - x_{13} x_{24}^{2} - x_{14} x_{22} x_{34} + x_{12} x_{24} x_{34} + x_{13} x_{22} x_{44} - x_{12} x_{23} x_{44}\\)</html>"
      ],
      "text/latex": [
       "$\\displaystyle \\verb|p1|\\verb| |\\verb|=| x_{14} x_{23} x_{24} - x_{13} x_{24}^{2} - x_{14} x_{22} x_{34} + x_{12} x_{24} x_{34} + x_{13} x_{22} x_{44} - x_{12} x_{23} x_{44}$"
      ],
      "text/plain": [
       "'p1 = ' x14*x23*x24 - x13*x24^2 - x14*x22*x34 + x12*x24*x34 + x13*x22*x44 - x12*x23*x44"
      ]
     },
     "metadata": {},
     "output_type": "display_data"
    },
    {
     "data": {
      "text/html": [
       "<html>\\(\\displaystyle \\verb|p2|\\verb| |\\verb|=| x_{13} x_{14} x_{23} - x_{13}^{2} x_{24} - x_{12} x_{14} x_{33} + x_{11} x_{24} x_{33} + x_{12} x_{13} x_{34} - x_{11} x_{23} x_{34}\\)</html>"
      ],
      "text/latex": [
       "$\\displaystyle \\verb|p2|\\verb| |\\verb|=| x_{13} x_{14} x_{23} - x_{13}^{2} x_{24} - x_{12} x_{14} x_{33} + x_{11} x_{24} x_{33} + x_{12} x_{13} x_{34} - x_{11} x_{23} x_{34}$"
      ],
      "text/plain": [
       "'p2 = ' x13*x14*x23 - x13^2*x24 - x12*x14*x33 + x11*x24*x33 + x12*x13*x34 - x11*x23*x34"
      ]
     },
     "metadata": {},
     "output_type": "display_data"
    }
   ],
   "source": [
    "# Defining p1 and p2 from the paper\n",
    "p1 = x14*x23*x24- x13*x24^2- x14*x22*x34+ x12*x24*x34+ x13*x22*x44- x12*x23*x44\n",
    "show('p1 = ', p1)\n",
    "p2 = x13*x14*x23- x13^2*x24 - x12*x14*x33+ x11*x24*x33+ x12*x13*x34- x11*x23*x34\n",
    "show('p2 = ', p2)"
   ]
  },
  {
   "cell_type": "code",
   "execution_count": 4,
   "id": "92572c72-98d1-49ce-8f60-9ca51c35a9a4",
   "metadata": {},
   "outputs": [
    {
     "data": {
      "text/plain": [
       "True"
      ]
     },
     "execution_count": 4,
     "metadata": {},
     "output_type": "execute_result"
    }
   ],
   "source": [
    "# Showing the construction explained above indeed gives us the polynomial we've written in the paper upto a constant\n",
    "q1 = det(M[[1,2,3],[0,1,3]])\n",
    "p1 == -q1"
   ]
  },
  {
   "cell_type": "code",
   "execution_count": 5,
   "id": "de80f655-d0e4-4d1b-9fe4-d1ed40d43cf6",
   "metadata": {},
   "outputs": [
    {
     "data": {
      "text/plain": [
       "True"
      ]
     },
     "execution_count": 5,
     "metadata": {},
     "output_type": "execute_result"
    }
   ],
   "source": [
    "# Showing the construction explained above indeed gives us the polynomial we've written in the paper upto a constant\n",
    "q2 = q2 = det(M[[0,2,3],[0,1,2]])\n",
    "p2 == -q2"
   ]
  },
  {
   "cell_type": "code",
   "execution_count": 7,
   "id": "6ce5a549-7a42-491b-8a5d-79d3dc213900",
   "metadata": {},
   "outputs": [
    {
     "name": "stdout",
     "output_type": "stream",
     "text": [
      "Defining x11, x12, x13, x14, x22, x23, x24, x33, x34, x44\n",
      "Defining x11, x12, x13, x14, x22, x23, x24, x33, x34, x44, g11, g12, g13, g14, g15, g16, g17, g18, g19, g110, g21, g22, g23, g24, g25, g26, g27, g28, g29, g210, g31, g32, g33, g34, g35, g36, g37, g38, g39, g310, g41, g42, g43, g44, g45, g46, g47, g48, g49, g410, g51, g52, g53, g54, g55, g56, g57, g58, g59, g510, g61, g62, g63, g64, g65, g66, g67, g68, g69, g610, g71, g72, g73, g74, g75, g76, g77, g78, g79, g710, g81, g82, g83, g84, g85, g86, g87, g88, g89, g810, g91, g92, g93, g94, g95, g96, g97, g98, g99, g910, g101, g102, g103, g104, g105, g106, g107, g108, g109, g1010\n",
      "\n",
      "A basis of the Lie algebra consists of the following matrices:\n",
      "\n"
     ]
    },
    {
     "data": {
      "text/html": [
       "<html>\\(\\displaystyle \\left[\\left(\\begin{array}{rrrrrrrrrr}\n",
       "2 & 0 & 0 & 0 & 0 & 0 & 0 & 0 & 0 & 0 \\\\\n",
       "0 & 1 & 0 & 0 & 0 & 0 & 0 & 0 & 0 & 0 \\\\\n",
       "0 & 0 & 1 & 0 & 0 & 0 & 0 & 0 & 0 & 0 \\\\\n",
       "0 & 0 & 0 & 1 & 0 & 0 & 0 & 0 & 0 & 0 \\\\\n",
       "0 & 0 & 0 & 0 & 0 & 0 & 0 & 0 & 0 & 0 \\\\\n",
       "0 & 0 & 0 & 0 & 0 & 0 & 0 & 0 & 0 & 0 \\\\\n",
       "0 & 0 & 0 & 0 & 0 & 0 & 0 & 0 & 0 & 0 \\\\\n",
       "0 & 0 & 0 & 0 & 0 & 0 & 0 & 0 & 0 & 0 \\\\\n",
       "0 & 0 & 0 & 0 & 0 & 0 & 0 & 0 & 0 & 0 \\\\\n",
       "0 & 0 & 0 & 0 & 0 & 0 & 0 & 0 & 0 & 0\n",
       "\\end{array}\\right), \\left(\\begin{array}{rrrrrrrrrr}\n",
       "0 & 0 & 0 & 0 & 0 & 0 & 0 & 0 & 0 & 0 \\\\\n",
       "0 & 0 & 0 & 0 & 0 & 0 & 0 & 0 & 0 & 0 \\\\\n",
       "0 & 0 & 1 & 0 & 0 & 0 & 0 & 0 & 0 & 0 \\\\\n",
       "0 & 0 & 0 & 0 & 0 & 0 & 0 & 0 & 0 & 0 \\\\\n",
       "0 & 0 & 0 & 0 & 0 & 0 & 0 & 0 & 0 & 0 \\\\\n",
       "0 & 0 & 0 & 0 & 0 & 1 & 0 & 0 & 0 & 0 \\\\\n",
       "0 & 0 & 0 & 0 & 0 & 0 & 0 & 0 & 0 & 0 \\\\\n",
       "0 & 0 & 0 & 0 & 0 & 0 & 0 & 2 & 0 & 0 \\\\\n",
       "0 & 0 & 0 & 0 & 0 & 0 & 0 & 0 & 1 & 0 \\\\\n",
       "0 & 0 & 0 & 0 & 0 & 0 & 0 & 0 & 0 & 0\n",
       "\\end{array}\\right), \\left(\\begin{array}{rrrrrrrrrr}\n",
       "0 & 0 & 0 & 0 & 0 & 0 & 0 & 0 & 0 & 0 \\\\\n",
       "0 & 1 & 0 & 0 & 0 & 0 & 0 & 0 & 0 & 0 \\\\\n",
       "0 & 0 & 0 & 0 & 0 & 0 & 0 & 0 & 0 & 0 \\\\\n",
       "0 & 0 & 0 & 0 & 0 & 0 & 0 & 0 & 0 & 0 \\\\\n",
       "0 & 0 & 0 & 0 & 2 & 0 & 0 & 0 & 0 & 0 \\\\\n",
       "0 & 0 & 0 & 0 & 0 & 1 & 0 & 0 & 0 & 0 \\\\\n",
       "0 & 0 & 0 & 0 & 0 & 0 & 1 & 0 & 0 & 0 \\\\\n",
       "0 & 0 & 0 & 0 & 0 & 0 & 0 & 0 & 0 & 0 \\\\\n",
       "0 & 0 & 0 & 0 & 0 & 0 & 0 & 0 & 0 & 0 \\\\\n",
       "0 & 0 & 0 & 0 & 0 & 0 & 0 & 0 & 0 & 0\n",
       "\\end{array}\\right), \\left(\\begin{array}{rrrrrrrrrr}\n",
       "-1 & 0 & 0 & 0 & 0 & 0 & 0 & 0 & 0 & 0 \\\\\n",
       "0 & -1 & 0 & 0 & 0 & 0 & 0 & 0 & 0 & 0 \\\\\n",
       "0 & 0 & -1 & 0 & 0 & 0 & 0 & 0 & 0 & 0 \\\\\n",
       "0 & 0 & 0 & 0 & 0 & 0 & 0 & 0 & 0 & 0 \\\\\n",
       "0 & 0 & 0 & 0 & -1 & 0 & 0 & 0 & 0 & 0 \\\\\n",
       "0 & 0 & 0 & 0 & 0 & -1 & 0 & 0 & 0 & 0 \\\\\n",
       "0 & 0 & 0 & 0 & 0 & 0 & 0 & 0 & 0 & 0 \\\\\n",
       "0 & 0 & 0 & 0 & 0 & 0 & 0 & -1 & 0 & 0 \\\\\n",
       "0 & 0 & 0 & 0 & 0 & 0 & 0 & 0 & 0 & 0 \\\\\n",
       "0 & 0 & 0 & 0 & 0 & 0 & 0 & 0 & 0 & 1\n",
       "\\end{array}\\right)\\right]\\)</html>"
      ],
      "text/latex": [
       "$\\displaystyle \\left[\\left(\\begin{array}{rrrrrrrrrr}\n",
       "2 & 0 & 0 & 0 & 0 & 0 & 0 & 0 & 0 & 0 \\\\\n",
       "0 & 1 & 0 & 0 & 0 & 0 & 0 & 0 & 0 & 0 \\\\\n",
       "0 & 0 & 1 & 0 & 0 & 0 & 0 & 0 & 0 & 0 \\\\\n",
       "0 & 0 & 0 & 1 & 0 & 0 & 0 & 0 & 0 & 0 \\\\\n",
       "0 & 0 & 0 & 0 & 0 & 0 & 0 & 0 & 0 & 0 \\\\\n",
       "0 & 0 & 0 & 0 & 0 & 0 & 0 & 0 & 0 & 0 \\\\\n",
       "0 & 0 & 0 & 0 & 0 & 0 & 0 & 0 & 0 & 0 \\\\\n",
       "0 & 0 & 0 & 0 & 0 & 0 & 0 & 0 & 0 & 0 \\\\\n",
       "0 & 0 & 0 & 0 & 0 & 0 & 0 & 0 & 0 & 0 \\\\\n",
       "0 & 0 & 0 & 0 & 0 & 0 & 0 & 0 & 0 & 0\n",
       "\\end{array}\\right), \\left(\\begin{array}{rrrrrrrrrr}\n",
       "0 & 0 & 0 & 0 & 0 & 0 & 0 & 0 & 0 & 0 \\\\\n",
       "0 & 0 & 0 & 0 & 0 & 0 & 0 & 0 & 0 & 0 \\\\\n",
       "0 & 0 & 1 & 0 & 0 & 0 & 0 & 0 & 0 & 0 \\\\\n",
       "0 & 0 & 0 & 0 & 0 & 0 & 0 & 0 & 0 & 0 \\\\\n",
       "0 & 0 & 0 & 0 & 0 & 0 & 0 & 0 & 0 & 0 \\\\\n",
       "0 & 0 & 0 & 0 & 0 & 1 & 0 & 0 & 0 & 0 \\\\\n",
       "0 & 0 & 0 & 0 & 0 & 0 & 0 & 0 & 0 & 0 \\\\\n",
       "0 & 0 & 0 & 0 & 0 & 0 & 0 & 2 & 0 & 0 \\\\\n",
       "0 & 0 & 0 & 0 & 0 & 0 & 0 & 0 & 1 & 0 \\\\\n",
       "0 & 0 & 0 & 0 & 0 & 0 & 0 & 0 & 0 & 0\n",
       "\\end{array}\\right), \\left(\\begin{array}{rrrrrrrrrr}\n",
       "0 & 0 & 0 & 0 & 0 & 0 & 0 & 0 & 0 & 0 \\\\\n",
       "0 & 1 & 0 & 0 & 0 & 0 & 0 & 0 & 0 & 0 \\\\\n",
       "0 & 0 & 0 & 0 & 0 & 0 & 0 & 0 & 0 & 0 \\\\\n",
       "0 & 0 & 0 & 0 & 0 & 0 & 0 & 0 & 0 & 0 \\\\\n",
       "0 & 0 & 0 & 0 & 2 & 0 & 0 & 0 & 0 & 0 \\\\\n",
       "0 & 0 & 0 & 0 & 0 & 1 & 0 & 0 & 0 & 0 \\\\\n",
       "0 & 0 & 0 & 0 & 0 & 0 & 1 & 0 & 0 & 0 \\\\\n",
       "0 & 0 & 0 & 0 & 0 & 0 & 0 & 0 & 0 & 0 \\\\\n",
       "0 & 0 & 0 & 0 & 0 & 0 & 0 & 0 & 0 & 0 \\\\\n",
       "0 & 0 & 0 & 0 & 0 & 0 & 0 & 0 & 0 & 0\n",
       "\\end{array}\\right), \\left(\\begin{array}{rrrrrrrrrr}\n",
       "-1 & 0 & 0 & 0 & 0 & 0 & 0 & 0 & 0 & 0 \\\\\n",
       "0 & -1 & 0 & 0 & 0 & 0 & 0 & 0 & 0 & 0 \\\\\n",
       "0 & 0 & -1 & 0 & 0 & 0 & 0 & 0 & 0 & 0 \\\\\n",
       "0 & 0 & 0 & 0 & 0 & 0 & 0 & 0 & 0 & 0 \\\\\n",
       "0 & 0 & 0 & 0 & -1 & 0 & 0 & 0 & 0 & 0 \\\\\n",
       "0 & 0 & 0 & 0 & 0 & -1 & 0 & 0 & 0 & 0 \\\\\n",
       "0 & 0 & 0 & 0 & 0 & 0 & 0 & 0 & 0 & 0 \\\\\n",
       "0 & 0 & 0 & 0 & 0 & 0 & 0 & -1 & 0 & 0 \\\\\n",
       "0 & 0 & 0 & 0 & 0 & 0 & 0 & 0 & 0 & 0 \\\\\n",
       "0 & 0 & 0 & 0 & 0 & 0 & 0 & 0 & 0 & 1\n",
       "\\end{array}\\right)\\right]$"
      ],
      "text/plain": [
       "[\n",
       "[2 0 0 0 0 0 0 0 0 0]  [0 0 0 0 0 0 0 0 0 0]  [0 0 0 0 0 0 0 0 0 0]\n",
       "[0 1 0 0 0 0 0 0 0 0]  [0 0 0 0 0 0 0 0 0 0]  [0 1 0 0 0 0 0 0 0 0]\n",
       "[0 0 1 0 0 0 0 0 0 0]  [0 0 1 0 0 0 0 0 0 0]  [0 0 0 0 0 0 0 0 0 0]\n",
       "[0 0 0 1 0 0 0 0 0 0]  [0 0 0 0 0 0 0 0 0 0]  [0 0 0 0 0 0 0 0 0 0]\n",
       "[0 0 0 0 0 0 0 0 0 0]  [0 0 0 0 0 0 0 0 0 0]  [0 0 0 0 2 0 0 0 0 0]\n",
       "[0 0 0 0 0 0 0 0 0 0]  [0 0 0 0 0 1 0 0 0 0]  [0 0 0 0 0 1 0 0 0 0]\n",
       "[0 0 0 0 0 0 0 0 0 0]  [0 0 0 0 0 0 0 0 0 0]  [0 0 0 0 0 0 1 0 0 0]\n",
       "[0 0 0 0 0 0 0 0 0 0]  [0 0 0 0 0 0 0 2 0 0]  [0 0 0 0 0 0 0 0 0 0]\n",
       "[0 0 0 0 0 0 0 0 0 0]  [0 0 0 0 0 0 0 0 1 0]  [0 0 0 0 0 0 0 0 0 0]\n",
       "[0 0 0 0 0 0 0 0 0 0], [0 0 0 0 0 0 0 0 0 0], [0 0 0 0 0 0 0 0 0 0],\n",
       "\n",
       "[-1  0  0  0  0  0  0  0  0  0]\n",
       "[ 0 -1  0  0  0  0  0  0  0  0]\n",
       "[ 0  0 -1  0  0  0  0  0  0  0]\n",
       "[ 0  0  0  0  0  0  0  0  0  0]\n",
       "[ 0  0  0  0 -1  0  0  0  0  0]\n",
       "[ 0  0  0  0  0 -1  0  0  0  0]\n",
       "[ 0  0  0  0  0  0  0  0  0  0]\n",
       "[ 0  0  0  0  0  0  0 -1  0  0]\n",
       "[ 0  0  0  0  0  0  0  0  0  0]\n",
       "[ 0  0  0  0  0  0  0  0  0  1]\n",
       "]"
      ]
     },
     "metadata": {},
     "output_type": "display_data"
    }
   ],
   "source": [
    "# Finding the symmetry Lie algebra\n",
    "start_time = time.time()\n",
    "Liealg = symmalg([p1,p2], 10)\n",
    "end_time = time.time()"
   ]
  },
  {
   "cell_type": "code",
   "execution_count": 18,
   "id": "f0623eb3-f973-4192-a31c-2f71c831b37d",
   "metadata": {},
   "outputs": [
    {
     "data": {
      "text/plain": [
       "4"
      ]
     },
     "execution_count": 18,
     "metadata": {},
     "output_type": "execute_result"
    }
   ],
   "source": [
    "Liealg.Dimension()"
   ]
  },
  {
   "cell_type": "code",
   "execution_count": 8,
   "id": "d0f55805-e394-4ba3-8733-93abe540ad78",
   "metadata": {},
   "outputs": [
    {
     "name": "stdout",
     "output_type": "stream",
     "text": [
      "\n",
      "Computation Time: 2 min 26.41 sec\n"
     ]
    }
   ],
   "source": [
    "comp_time = end_time - start_time\n",
    "# Convert to minutes and seconds\n",
    "minutes = int(comp_time // 60)\n",
    "seconds = comp_time % 60\n",
    "\n",
    "# Format with 2 decimal places for seconds\n",
    "formatted_time_str = f\"{minutes} min {seconds:.2f} sec\"\n",
    "\n",
    "print(f\"\\nComputation Time: {formatted_time_str}\")"
   ]
  },
  {
   "cell_type": "code",
   "execution_count": null,
   "id": "e752e381-7520-49aa-9087-a29d78abcf48",
   "metadata": {},
   "outputs": [],
   "source": []
  }
 ],
 "metadata": {
  "kernelspec": {
   "display_name": "SageMath 10.3",
   "language": "sage",
   "name": "sagemath-10.3"
  },
  "language_info": {
   "codemirror_mode": {
    "name": "ipython",
    "version": 3
   },
   "file_extension": ".py",
   "mimetype": "text/x-python",
   "name": "python",
   "nbconvert_exporter": "python",
   "pygments_lexer": "ipython3",
   "version": "3.11.8"
  }
 },
 "nbformat": 4,
 "nbformat_minor": 5
}
